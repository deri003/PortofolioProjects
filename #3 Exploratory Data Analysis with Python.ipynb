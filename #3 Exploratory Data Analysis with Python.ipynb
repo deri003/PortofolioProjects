{
 "cells": [
  {
   "cell_type": "code",
   "execution_count": 1,
   "id": "d7225614",
   "metadata": {},
   "outputs": [],
   "source": [
    "import pandas as pd\n",
    "import seaborn as sns\n",
    "import matplotlib.pyplot as plt"
   ]
  },
  {
   "cell_type": "markdown",
   "id": "ac865f05",
   "metadata": {},
   "source": [
    "# Data Cleaning"
   ]
  },
  {
   "cell_type": "code",
   "execution_count": 2,
   "id": "fcff56e9",
   "metadata": {},
   "outputs": [
    {
     "data": {
      "text/html": [
       "<div>\n",
       "<style scoped>\n",
       "    .dataframe tbody tr th:only-of-type {\n",
       "        vertical-align: middle;\n",
       "    }\n",
       "\n",
       "    .dataframe tbody tr th {\n",
       "        vertical-align: top;\n",
       "    }\n",
       "\n",
       "    .dataframe thead th {\n",
       "        text-align: right;\n",
       "    }\n",
       "</style>\n",
       "<table border=\"1\" class=\"dataframe\">\n",
       "  <thead>\n",
       "    <tr style=\"text-align: right;\">\n",
       "      <th></th>\n",
       "      <th>CID</th>\n",
       "      <th>TID</th>\n",
       "      <th>Gender</th>\n",
       "      <th>Age Group</th>\n",
       "      <th>Purchase Date</th>\n",
       "      <th>Product Category</th>\n",
       "      <th>Discount Availed</th>\n",
       "      <th>Discount Name</th>\n",
       "      <th>Discount Amount (INR)</th>\n",
       "      <th>Gross Amount</th>\n",
       "      <th>Net Amount</th>\n",
       "      <th>Purchase Method</th>\n",
       "      <th>Location</th>\n",
       "    </tr>\n",
       "  </thead>\n",
       "  <tbody>\n",
       "    <tr>\n",
       "      <th>0</th>\n",
       "      <td>943146</td>\n",
       "      <td>5876328741</td>\n",
       "      <td>Female</td>\n",
       "      <td>25-45</td>\n",
       "      <td>30/08/2023 20:27:08</td>\n",
       "      <td>Electronics</td>\n",
       "      <td>Yes</td>\n",
       "      <td>FESTIVE50</td>\n",
       "      <td>64.30</td>\n",
       "      <td>725.304000</td>\n",
       "      <td>661.004000</td>\n",
       "      <td>Credit Card</td>\n",
       "      <td>Ahmedabad</td>\n",
       "    </tr>\n",
       "    <tr>\n",
       "      <th>1</th>\n",
       "      <td>180079</td>\n",
       "      <td>1018503182</td>\n",
       "      <td>Male</td>\n",
       "      <td>25-45</td>\n",
       "      <td>23/02/2024 09:33:46</td>\n",
       "      <td>Electronics</td>\n",
       "      <td>Yes</td>\n",
       "      <td>SEASONALOFFER21</td>\n",
       "      <td>175.19</td>\n",
       "      <td>4638.991875</td>\n",
       "      <td>4463.801875</td>\n",
       "      <td>Credit Card</td>\n",
       "      <td>Bangalore</td>\n",
       "    </tr>\n",
       "    <tr>\n",
       "      <th>2</th>\n",
       "      <td>337580</td>\n",
       "      <td>3814082218</td>\n",
       "      <td>Other</td>\n",
       "      <td>60 and above</td>\n",
       "      <td>06/03/2022 09:09:50</td>\n",
       "      <td>Clothing</td>\n",
       "      <td>Yes</td>\n",
       "      <td>SEASONALOFFER21</td>\n",
       "      <td>211.54</td>\n",
       "      <td>1986.372575</td>\n",
       "      <td>1774.832575</td>\n",
       "      <td>Credit Card</td>\n",
       "      <td>Delhi</td>\n",
       "    </tr>\n",
       "    <tr>\n",
       "      <th>3</th>\n",
       "      <td>180333</td>\n",
       "      <td>1395204173</td>\n",
       "      <td>Other</td>\n",
       "      <td>60 and above</td>\n",
       "      <td>04/11/2020 04:41:57</td>\n",
       "      <td>Sports &amp; Fitness</td>\n",
       "      <td>No</td>\n",
       "      <td>NaN</td>\n",
       "      <td>0.00</td>\n",
       "      <td>5695.612650</td>\n",
       "      <td>5695.612650</td>\n",
       "      <td>Debit Card</td>\n",
       "      <td>Delhi</td>\n",
       "    </tr>\n",
       "    <tr>\n",
       "      <th>4</th>\n",
       "      <td>447553</td>\n",
       "      <td>8009390577</td>\n",
       "      <td>Male</td>\n",
       "      <td>18-25</td>\n",
       "      <td>31/05/2022 17:00:32</td>\n",
       "      <td>Sports &amp; Fitness</td>\n",
       "      <td>Yes</td>\n",
       "      <td>WELCOME5</td>\n",
       "      <td>439.92</td>\n",
       "      <td>2292.651500</td>\n",
       "      <td>1852.731500</td>\n",
       "      <td>Credit Card</td>\n",
       "      <td>Delhi</td>\n",
       "    </tr>\n",
       "    <tr>\n",
       "      <th>...</th>\n",
       "      <td>...</td>\n",
       "      <td>...</td>\n",
       "      <td>...</td>\n",
       "      <td>...</td>\n",
       "      <td>...</td>\n",
       "      <td>...</td>\n",
       "      <td>...</td>\n",
       "      <td>...</td>\n",
       "      <td>...</td>\n",
       "      <td>...</td>\n",
       "      <td>...</td>\n",
       "      <td>...</td>\n",
       "      <td>...</td>\n",
       "    </tr>\n",
       "    <tr>\n",
       "      <th>54995</th>\n",
       "      <td>295864</td>\n",
       "      <td>5407639888</td>\n",
       "      <td>Other</td>\n",
       "      <td>25-45</td>\n",
       "      <td>23/02/2020 10:42:04</td>\n",
       "      <td>Electronics</td>\n",
       "      <td>Yes</td>\n",
       "      <td>SEASONALOFFER21</td>\n",
       "      <td>110.89</td>\n",
       "      <td>2819.907300</td>\n",
       "      <td>2709.017300</td>\n",
       "      <td>Debit Card</td>\n",
       "      <td>Other</td>\n",
       "    </tr>\n",
       "    <tr>\n",
       "      <th>54996</th>\n",
       "      <td>706435</td>\n",
       "      <td>1144029904</td>\n",
       "      <td>Other</td>\n",
       "      <td>18-25</td>\n",
       "      <td>12/07/2021 15:59:21</td>\n",
       "      <td>Electronics</td>\n",
       "      <td>Yes</td>\n",
       "      <td>SEASONALOFFER21</td>\n",
       "      <td>488.59</td>\n",
       "      <td>3891.303900</td>\n",
       "      <td>3402.713900</td>\n",
       "      <td>Cash on Delivery</td>\n",
       "      <td>Bangalore</td>\n",
       "    </tr>\n",
       "    <tr>\n",
       "      <th>54997</th>\n",
       "      <td>649435</td>\n",
       "      <td>9587323189</td>\n",
       "      <td>Male</td>\n",
       "      <td>45-60</td>\n",
       "      <td>02/08/2024 09:30:44</td>\n",
       "      <td>Home &amp; Kitchen</td>\n",
       "      <td>Yes</td>\n",
       "      <td>NEWYEARS</td>\n",
       "      <td>417.63</td>\n",
       "      <td>4094.687500</td>\n",
       "      <td>3677.057500</td>\n",
       "      <td>Credit Card</td>\n",
       "      <td>Mumbai</td>\n",
       "    </tr>\n",
       "    <tr>\n",
       "      <th>54998</th>\n",
       "      <td>982183</td>\n",
       "      <td>5032564481</td>\n",
       "      <td>Female</td>\n",
       "      <td>45-60</td>\n",
       "      <td>05/08/2020 23:57:56</td>\n",
       "      <td>Beauty and Health</td>\n",
       "      <td>Yes</td>\n",
       "      <td>SEASONALOFFER21</td>\n",
       "      <td>204.56</td>\n",
       "      <td>3977.473500</td>\n",
       "      <td>3772.913500</td>\n",
       "      <td>Credit Card</td>\n",
       "      <td>Kolkata</td>\n",
       "    </tr>\n",
       "    <tr>\n",
       "      <th>54999</th>\n",
       "      <td>126691</td>\n",
       "      <td>9172953722</td>\n",
       "      <td>Male</td>\n",
       "      <td>25-45</td>\n",
       "      <td>21/07/2022 09:05:18</td>\n",
       "      <td>Beauty and Health</td>\n",
       "      <td>Yes</td>\n",
       "      <td>NEWYEARS</td>\n",
       "      <td>380.81</td>\n",
       "      <td>3703.581900</td>\n",
       "      <td>3322.771900</td>\n",
       "      <td>Credit Card</td>\n",
       "      <td>Mumbai</td>\n",
       "    </tr>\n",
       "  </tbody>\n",
       "</table>\n",
       "<p>55000 rows × 13 columns</p>\n",
       "</div>"
      ],
      "text/plain": [
       "          CID         TID  Gender     Age Group        Purchase Date  \\\n",
       "0      943146  5876328741  Female         25-45  30/08/2023 20:27:08   \n",
       "1      180079  1018503182    Male         25-45  23/02/2024 09:33:46   \n",
       "2      337580  3814082218   Other  60 and above  06/03/2022 09:09:50   \n",
       "3      180333  1395204173   Other  60 and above  04/11/2020 04:41:57   \n",
       "4      447553  8009390577    Male         18-25  31/05/2022 17:00:32   \n",
       "...       ...         ...     ...           ...                  ...   \n",
       "54995  295864  5407639888   Other         25-45  23/02/2020 10:42:04   \n",
       "54996  706435  1144029904   Other         18-25  12/07/2021 15:59:21   \n",
       "54997  649435  9587323189    Male         45-60  02/08/2024 09:30:44   \n",
       "54998  982183  5032564481  Female         45-60  05/08/2020 23:57:56   \n",
       "54999  126691  9172953722    Male         25-45  21/07/2022 09:05:18   \n",
       "\n",
       "        Product Category Discount Availed    Discount Name  \\\n",
       "0            Electronics              Yes        FESTIVE50   \n",
       "1            Electronics              Yes  SEASONALOFFER21   \n",
       "2               Clothing              Yes  SEASONALOFFER21   \n",
       "3       Sports & Fitness               No              NaN   \n",
       "4       Sports & Fitness              Yes         WELCOME5   \n",
       "...                  ...              ...              ...   \n",
       "54995        Electronics              Yes  SEASONALOFFER21   \n",
       "54996        Electronics              Yes  SEASONALOFFER21   \n",
       "54997     Home & Kitchen              Yes         NEWYEARS   \n",
       "54998  Beauty and Health              Yes  SEASONALOFFER21   \n",
       "54999  Beauty and Health              Yes         NEWYEARS   \n",
       "\n",
       "       Discount Amount (INR)  Gross Amount   Net Amount   Purchase Method  \\\n",
       "0                      64.30    725.304000   661.004000       Credit Card   \n",
       "1                     175.19   4638.991875  4463.801875       Credit Card   \n",
       "2                     211.54   1986.372575  1774.832575       Credit Card   \n",
       "3                       0.00   5695.612650  5695.612650        Debit Card   \n",
       "4                     439.92   2292.651500  1852.731500       Credit Card   \n",
       "...                      ...           ...          ...               ...   \n",
       "54995                 110.89   2819.907300  2709.017300        Debit Card   \n",
       "54996                 488.59   3891.303900  3402.713900  Cash on Delivery   \n",
       "54997                 417.63   4094.687500  3677.057500       Credit Card   \n",
       "54998                 204.56   3977.473500  3772.913500       Credit Card   \n",
       "54999                 380.81   3703.581900  3322.771900       Credit Card   \n",
       "\n",
       "        Location  \n",
       "0      Ahmedabad  \n",
       "1      Bangalore  \n",
       "2          Delhi  \n",
       "3          Delhi  \n",
       "4          Delhi  \n",
       "...          ...  \n",
       "54995      Other  \n",
       "54996  Bangalore  \n",
       "54997     Mumbai  \n",
       "54998    Kolkata  \n",
       "54999     Mumbai  \n",
       "\n",
       "[55000 rows x 13 columns]"
      ]
     },
     "execution_count": 2,
     "metadata": {},
     "output_type": "execute_result"
    }
   ],
   "source": [
    "df = pd.read_csv(r\"C:\\Users\\derik\\OneDrive\\Documents\\python project\\project1_df.csv\")\n",
    "df"
   ]
  },
  {
   "cell_type": "code",
   "execution_count": 3,
   "id": "c61519ca",
   "metadata": {},
   "outputs": [
    {
     "name": "stdout",
     "output_type": "stream",
     "text": [
      "<class 'pandas.core.frame.DataFrame'>\n",
      "RangeIndex: 55000 entries, 0 to 54999\n",
      "Data columns (total 13 columns):\n",
      " #   Column                 Non-Null Count  Dtype  \n",
      "---  ------                 --------------  -----  \n",
      " 0   CID                    55000 non-null  int64  \n",
      " 1   TID                    55000 non-null  int64  \n",
      " 2   Gender                 55000 non-null  object \n",
      " 3   Age Group              55000 non-null  object \n",
      " 4   Purchase Date          55000 non-null  object \n",
      " 5   Product Category       55000 non-null  object \n",
      " 6   Discount Availed       55000 non-null  object \n",
      " 7   Discount Name          27415 non-null  object \n",
      " 8   Discount Amount (INR)  55000 non-null  float64\n",
      " 9   Gross Amount           55000 non-null  float64\n",
      " 10  Net Amount             55000 non-null  float64\n",
      " 11  Purchase Method        55000 non-null  object \n",
      " 12  Location               55000 non-null  object \n",
      "dtypes: float64(3), int64(2), object(8)\n",
      "memory usage: 5.5+ MB\n"
     ]
    }
   ],
   "source": [
    "df.info()"
   ]
  },
  {
   "cell_type": "code",
   "execution_count": 4,
   "id": "c4ff88b6",
   "metadata": {},
   "outputs": [
    {
     "data": {
      "text/plain": [
       "CID                          0\n",
       "TID                          0\n",
       "Gender                       0\n",
       "Age Group                    0\n",
       "Purchase Date                0\n",
       "Product Category             0\n",
       "Discount Availed             0\n",
       "Discount Name            27585\n",
       "Discount Amount (INR)        0\n",
       "Gross Amount                 0\n",
       "Net Amount                   0\n",
       "Purchase Method              0\n",
       "Location                     0\n",
       "dtype: int64"
      ]
     },
     "execution_count": 4,
     "metadata": {},
     "output_type": "execute_result"
    }
   ],
   "source": [
    "df.isnull().sum()"
   ]
  },
  {
   "cell_type": "code",
   "execution_count": 5,
   "id": "f0151784",
   "metadata": {},
   "outputs": [],
   "source": [
    "df['Discount Name'].fillna('No Discount', inplace=True)"
   ]
  },
  {
   "cell_type": "code",
   "execution_count": 6,
   "id": "fb226291",
   "metadata": {},
   "outputs": [
    {
     "data": {
      "text/html": [
       "<div>\n",
       "<style scoped>\n",
       "    .dataframe tbody tr th:only-of-type {\n",
       "        vertical-align: middle;\n",
       "    }\n",
       "\n",
       "    .dataframe tbody tr th {\n",
       "        vertical-align: top;\n",
       "    }\n",
       "\n",
       "    .dataframe thead th {\n",
       "        text-align: right;\n",
       "    }\n",
       "</style>\n",
       "<table border=\"1\" class=\"dataframe\">\n",
       "  <thead>\n",
       "    <tr style=\"text-align: right;\">\n",
       "      <th></th>\n",
       "      <th>CID</th>\n",
       "      <th>TID</th>\n",
       "      <th>Gender</th>\n",
       "      <th>Age Group</th>\n",
       "      <th>Purchase Date</th>\n",
       "      <th>Product Category</th>\n",
       "      <th>Discount Availed</th>\n",
       "      <th>Discount Name</th>\n",
       "      <th>Discount Amount (INR)</th>\n",
       "      <th>Gross Amount</th>\n",
       "      <th>Net Amount</th>\n",
       "      <th>Purchase Method</th>\n",
       "      <th>Location</th>\n",
       "    </tr>\n",
       "  </thead>\n",
       "  <tbody>\n",
       "    <tr>\n",
       "      <th>0</th>\n",
       "      <td>943146</td>\n",
       "      <td>5876328741</td>\n",
       "      <td>Female</td>\n",
       "      <td>25-45</td>\n",
       "      <td>2023-08-30 20:27:08</td>\n",
       "      <td>Electronics</td>\n",
       "      <td>Yes</td>\n",
       "      <td>FESTIVE50</td>\n",
       "      <td>64.30</td>\n",
       "      <td>725.304000</td>\n",
       "      <td>661.004000</td>\n",
       "      <td>Credit Card</td>\n",
       "      <td>Ahmedabad</td>\n",
       "    </tr>\n",
       "    <tr>\n",
       "      <th>1</th>\n",
       "      <td>180079</td>\n",
       "      <td>1018503182</td>\n",
       "      <td>Male</td>\n",
       "      <td>25-45</td>\n",
       "      <td>2024-02-23 09:33:46</td>\n",
       "      <td>Electronics</td>\n",
       "      <td>Yes</td>\n",
       "      <td>SEASONALOFFER21</td>\n",
       "      <td>175.19</td>\n",
       "      <td>4638.991875</td>\n",
       "      <td>4463.801875</td>\n",
       "      <td>Credit Card</td>\n",
       "      <td>Bangalore</td>\n",
       "    </tr>\n",
       "    <tr>\n",
       "      <th>2</th>\n",
       "      <td>337580</td>\n",
       "      <td>3814082218</td>\n",
       "      <td>Other</td>\n",
       "      <td>60 and above</td>\n",
       "      <td>2022-03-06 09:09:50</td>\n",
       "      <td>Clothing</td>\n",
       "      <td>Yes</td>\n",
       "      <td>SEASONALOFFER21</td>\n",
       "      <td>211.54</td>\n",
       "      <td>1986.372575</td>\n",
       "      <td>1774.832575</td>\n",
       "      <td>Credit Card</td>\n",
       "      <td>Delhi</td>\n",
       "    </tr>\n",
       "    <tr>\n",
       "      <th>3</th>\n",
       "      <td>180333</td>\n",
       "      <td>1395204173</td>\n",
       "      <td>Other</td>\n",
       "      <td>60 and above</td>\n",
       "      <td>2020-11-04 04:41:57</td>\n",
       "      <td>Sports &amp; Fitness</td>\n",
       "      <td>No</td>\n",
       "      <td>No Discount</td>\n",
       "      <td>0.00</td>\n",
       "      <td>5695.612650</td>\n",
       "      <td>5695.612650</td>\n",
       "      <td>Debit Card</td>\n",
       "      <td>Delhi</td>\n",
       "    </tr>\n",
       "    <tr>\n",
       "      <th>4</th>\n",
       "      <td>447553</td>\n",
       "      <td>8009390577</td>\n",
       "      <td>Male</td>\n",
       "      <td>18-25</td>\n",
       "      <td>2022-05-31 17:00:32</td>\n",
       "      <td>Sports &amp; Fitness</td>\n",
       "      <td>Yes</td>\n",
       "      <td>WELCOME5</td>\n",
       "      <td>439.92</td>\n",
       "      <td>2292.651500</td>\n",
       "      <td>1852.731500</td>\n",
       "      <td>Credit Card</td>\n",
       "      <td>Delhi</td>\n",
       "    </tr>\n",
       "    <tr>\n",
       "      <th>...</th>\n",
       "      <td>...</td>\n",
       "      <td>...</td>\n",
       "      <td>...</td>\n",
       "      <td>...</td>\n",
       "      <td>...</td>\n",
       "      <td>...</td>\n",
       "      <td>...</td>\n",
       "      <td>...</td>\n",
       "      <td>...</td>\n",
       "      <td>...</td>\n",
       "      <td>...</td>\n",
       "      <td>...</td>\n",
       "      <td>...</td>\n",
       "    </tr>\n",
       "    <tr>\n",
       "      <th>54995</th>\n",
       "      <td>295864</td>\n",
       "      <td>5407639888</td>\n",
       "      <td>Other</td>\n",
       "      <td>25-45</td>\n",
       "      <td>2020-02-23 10:42:04</td>\n",
       "      <td>Electronics</td>\n",
       "      <td>Yes</td>\n",
       "      <td>SEASONALOFFER21</td>\n",
       "      <td>110.89</td>\n",
       "      <td>2819.907300</td>\n",
       "      <td>2709.017300</td>\n",
       "      <td>Debit Card</td>\n",
       "      <td>Other</td>\n",
       "    </tr>\n",
       "    <tr>\n",
       "      <th>54996</th>\n",
       "      <td>706435</td>\n",
       "      <td>1144029904</td>\n",
       "      <td>Other</td>\n",
       "      <td>18-25</td>\n",
       "      <td>2021-07-12 15:59:21</td>\n",
       "      <td>Electronics</td>\n",
       "      <td>Yes</td>\n",
       "      <td>SEASONALOFFER21</td>\n",
       "      <td>488.59</td>\n",
       "      <td>3891.303900</td>\n",
       "      <td>3402.713900</td>\n",
       "      <td>Cash on Delivery</td>\n",
       "      <td>Bangalore</td>\n",
       "    </tr>\n",
       "    <tr>\n",
       "      <th>54997</th>\n",
       "      <td>649435</td>\n",
       "      <td>9587323189</td>\n",
       "      <td>Male</td>\n",
       "      <td>45-60</td>\n",
       "      <td>2024-08-02 09:30:44</td>\n",
       "      <td>Home &amp; Kitchen</td>\n",
       "      <td>Yes</td>\n",
       "      <td>NEWYEARS</td>\n",
       "      <td>417.63</td>\n",
       "      <td>4094.687500</td>\n",
       "      <td>3677.057500</td>\n",
       "      <td>Credit Card</td>\n",
       "      <td>Mumbai</td>\n",
       "    </tr>\n",
       "    <tr>\n",
       "      <th>54998</th>\n",
       "      <td>982183</td>\n",
       "      <td>5032564481</td>\n",
       "      <td>Female</td>\n",
       "      <td>45-60</td>\n",
       "      <td>2020-08-05 23:57:56</td>\n",
       "      <td>Beauty and Health</td>\n",
       "      <td>Yes</td>\n",
       "      <td>SEASONALOFFER21</td>\n",
       "      <td>204.56</td>\n",
       "      <td>3977.473500</td>\n",
       "      <td>3772.913500</td>\n",
       "      <td>Credit Card</td>\n",
       "      <td>Kolkata</td>\n",
       "    </tr>\n",
       "    <tr>\n",
       "      <th>54999</th>\n",
       "      <td>126691</td>\n",
       "      <td>9172953722</td>\n",
       "      <td>Male</td>\n",
       "      <td>25-45</td>\n",
       "      <td>2022-07-21 09:05:18</td>\n",
       "      <td>Beauty and Health</td>\n",
       "      <td>Yes</td>\n",
       "      <td>NEWYEARS</td>\n",
       "      <td>380.81</td>\n",
       "      <td>3703.581900</td>\n",
       "      <td>3322.771900</td>\n",
       "      <td>Credit Card</td>\n",
       "      <td>Mumbai</td>\n",
       "    </tr>\n",
       "  </tbody>\n",
       "</table>\n",
       "<p>55000 rows × 13 columns</p>\n",
       "</div>"
      ],
      "text/plain": [
       "          CID         TID  Gender     Age Group       Purchase Date  \\\n",
       "0      943146  5876328741  Female         25-45 2023-08-30 20:27:08   \n",
       "1      180079  1018503182    Male         25-45 2024-02-23 09:33:46   \n",
       "2      337580  3814082218   Other  60 and above 2022-03-06 09:09:50   \n",
       "3      180333  1395204173   Other  60 and above 2020-11-04 04:41:57   \n",
       "4      447553  8009390577    Male         18-25 2022-05-31 17:00:32   \n",
       "...       ...         ...     ...           ...                 ...   \n",
       "54995  295864  5407639888   Other         25-45 2020-02-23 10:42:04   \n",
       "54996  706435  1144029904   Other         18-25 2021-07-12 15:59:21   \n",
       "54997  649435  9587323189    Male         45-60 2024-08-02 09:30:44   \n",
       "54998  982183  5032564481  Female         45-60 2020-08-05 23:57:56   \n",
       "54999  126691  9172953722    Male         25-45 2022-07-21 09:05:18   \n",
       "\n",
       "        Product Category Discount Availed    Discount Name  \\\n",
       "0            Electronics              Yes        FESTIVE50   \n",
       "1            Electronics              Yes  SEASONALOFFER21   \n",
       "2               Clothing              Yes  SEASONALOFFER21   \n",
       "3       Sports & Fitness               No      No Discount   \n",
       "4       Sports & Fitness              Yes         WELCOME5   \n",
       "...                  ...              ...              ...   \n",
       "54995        Electronics              Yes  SEASONALOFFER21   \n",
       "54996        Electronics              Yes  SEASONALOFFER21   \n",
       "54997     Home & Kitchen              Yes         NEWYEARS   \n",
       "54998  Beauty and Health              Yes  SEASONALOFFER21   \n",
       "54999  Beauty and Health              Yes         NEWYEARS   \n",
       "\n",
       "       Discount Amount (INR)  Gross Amount   Net Amount   Purchase Method  \\\n",
       "0                      64.30    725.304000   661.004000       Credit Card   \n",
       "1                     175.19   4638.991875  4463.801875       Credit Card   \n",
       "2                     211.54   1986.372575  1774.832575       Credit Card   \n",
       "3                       0.00   5695.612650  5695.612650        Debit Card   \n",
       "4                     439.92   2292.651500  1852.731500       Credit Card   \n",
       "...                      ...           ...          ...               ...   \n",
       "54995                 110.89   2819.907300  2709.017300        Debit Card   \n",
       "54996                 488.59   3891.303900  3402.713900  Cash on Delivery   \n",
       "54997                 417.63   4094.687500  3677.057500       Credit Card   \n",
       "54998                 204.56   3977.473500  3772.913500       Credit Card   \n",
       "54999                 380.81   3703.581900  3322.771900       Credit Card   \n",
       "\n",
       "        Location  \n",
       "0      Ahmedabad  \n",
       "1      Bangalore  \n",
       "2          Delhi  \n",
       "3          Delhi  \n",
       "4          Delhi  \n",
       "...          ...  \n",
       "54995      Other  \n",
       "54996  Bangalore  \n",
       "54997     Mumbai  \n",
       "54998    Kolkata  \n",
       "54999     Mumbai  \n",
       "\n",
       "[55000 rows x 13 columns]"
      ]
     },
     "execution_count": 6,
     "metadata": {},
     "output_type": "execute_result"
    }
   ],
   "source": [
    "df['Purchase Date'] = pd.to_datetime(df['Purchase Date'], dayfirst=True)\n",
    "df"
   ]
  },
  {
   "cell_type": "code",
   "execution_count": 7,
   "id": "aee766fa",
   "metadata": {},
   "outputs": [],
   "source": [
    "df['Year'] = df['Purchase Date'].dt.year\n",
    "df['Month'] = df['Purchase Date'].dt.month"
   ]
  },
  {
   "cell_type": "code",
   "execution_count": 8,
   "id": "9756d053",
   "metadata": {},
   "outputs": [
    {
     "data": {
      "text/plain": [
       "0"
      ]
     },
     "execution_count": 8,
     "metadata": {},
     "output_type": "execute_result"
    }
   ],
   "source": [
    "df.duplicated().sum()"
   ]
  },
  {
   "cell_type": "code",
   "execution_count": 9,
   "id": "32db1b73",
   "metadata": {},
   "outputs": [
    {
     "data": {
      "text/plain": [
       "array(['Female', 'Male', 'Other'], dtype=object)"
      ]
     },
     "execution_count": 9,
     "metadata": {},
     "output_type": "execute_result"
    }
   ],
   "source": [
    "df['Gender'].unique()"
   ]
  },
  {
   "cell_type": "code",
   "execution_count": 10,
   "id": "f137f4d5",
   "metadata": {},
   "outputs": [
    {
     "data": {
      "text/plain": [
       "array(['25-45', '60 and above', '18-25', '45-60', 'under 18'],\n",
       "      dtype=object)"
      ]
     },
     "execution_count": 10,
     "metadata": {},
     "output_type": "execute_result"
    }
   ],
   "source": [
    "df['Age Group'].unique()"
   ]
  },
  {
   "cell_type": "code",
   "execution_count": 11,
   "id": "451b2c58",
   "metadata": {},
   "outputs": [
    {
     "data": {
      "text/plain": [
       "array(['Electronics', 'Clothing', 'Sports & Fitness', 'Pet Care',\n",
       "       'Home & Kitchen', 'Books', 'Beauty and Health', 'Other',\n",
       "       'Toys & Games'], dtype=object)"
      ]
     },
     "execution_count": 11,
     "metadata": {},
     "output_type": "execute_result"
    }
   ],
   "source": [
    "df['Product Category'].unique()"
   ]
  },
  {
   "cell_type": "code",
   "execution_count": 12,
   "id": "f2a9e263",
   "metadata": {},
   "outputs": [
    {
     "data": {
      "text/plain": [
       "array(['Yes', 'No'], dtype=object)"
      ]
     },
     "execution_count": 12,
     "metadata": {},
     "output_type": "execute_result"
    }
   ],
   "source": [
    "df['Discount Availed'].unique()"
   ]
  },
  {
   "cell_type": "code",
   "execution_count": 13,
   "id": "7a90c413",
   "metadata": {},
   "outputs": [
    {
     "data": {
      "text/plain": [
       "array(['FESTIVE50', 'SEASONALOFFER21', 'No Discount', 'WELCOME5',\n",
       "       'SAVE10', 'NEWYEARS'], dtype=object)"
      ]
     },
     "execution_count": 13,
     "metadata": {},
     "output_type": "execute_result"
    }
   ],
   "source": [
    "df['Discount Name'].unique()"
   ]
  },
  {
   "cell_type": "code",
   "execution_count": 14,
   "id": "98e26416",
   "metadata": {},
   "outputs": [
    {
     "data": {
      "text/plain": [
       "array(['Credit Card', 'Debit Card', 'PhonePe UPI', 'Google Pay UPI',\n",
       "       'Net Banking', 'Cash on Delivery', 'Paytm UPI',\n",
       "       'International Card'], dtype=object)"
      ]
     },
     "execution_count": 14,
     "metadata": {},
     "output_type": "execute_result"
    }
   ],
   "source": [
    "df['Purchase Method'].unique()"
   ]
  },
  {
   "cell_type": "code",
   "execution_count": 15,
   "id": "355c8e1a",
   "metadata": {},
   "outputs": [
    {
     "data": {
      "text/plain": [
       "array(['Ahmedabad', 'Bangalore', 'Delhi', 'Other', 'Chennai', 'Dehradun',\n",
       "       'Pune', 'Hyderabad', 'Mumbai', 'Jaipur', 'Lucknow', 'Kolkata',\n",
       "       'Srinagar', 'Varanasi'], dtype=object)"
      ]
     },
     "execution_count": 15,
     "metadata": {},
     "output_type": "execute_result"
    }
   ],
   "source": [
    "df['Location'].unique()"
   ]
  },
  {
   "cell_type": "code",
   "execution_count": 16,
   "id": "4891d634",
   "metadata": {},
   "outputs": [
    {
     "data": {
      "text/html": [
       "<div>\n",
       "<style scoped>\n",
       "    .dataframe tbody tr th:only-of-type {\n",
       "        vertical-align: middle;\n",
       "    }\n",
       "\n",
       "    .dataframe tbody tr th {\n",
       "        vertical-align: top;\n",
       "    }\n",
       "\n",
       "    .dataframe thead th {\n",
       "        text-align: right;\n",
       "    }\n",
       "</style>\n",
       "<table border=\"1\" class=\"dataframe\">\n",
       "  <thead>\n",
       "    <tr style=\"text-align: right;\">\n",
       "      <th></th>\n",
       "      <th>CID</th>\n",
       "      <th>TID</th>\n",
       "      <th>Gender</th>\n",
       "      <th>Age Group</th>\n",
       "      <th>Purchase Date</th>\n",
       "      <th>Product Category</th>\n",
       "      <th>Discount Availed</th>\n",
       "      <th>Discount Name</th>\n",
       "      <th>Discount Amount (INR)</th>\n",
       "      <th>Gross Amount</th>\n",
       "      <th>Net Amount</th>\n",
       "      <th>Purchase Method</th>\n",
       "      <th>Location</th>\n",
       "      <th>Year</th>\n",
       "      <th>Month</th>\n",
       "    </tr>\n",
       "  </thead>\n",
       "  <tbody>\n",
       "    <tr>\n",
       "      <th>0</th>\n",
       "      <td>943146</td>\n",
       "      <td>5876328741</td>\n",
       "      <td>Female</td>\n",
       "      <td>25-45</td>\n",
       "      <td>2023-08-30 20:27:08</td>\n",
       "      <td>Electronics</td>\n",
       "      <td>Yes</td>\n",
       "      <td>FESTIVE50</td>\n",
       "      <td>64.30</td>\n",
       "      <td>725.304</td>\n",
       "      <td>661.004</td>\n",
       "      <td>Credit Card</td>\n",
       "      <td>Ahmedabad</td>\n",
       "      <td>2023</td>\n",
       "      <td>8</td>\n",
       "    </tr>\n",
       "    <tr>\n",
       "      <th>1</th>\n",
       "      <td>180079</td>\n",
       "      <td>1018503182</td>\n",
       "      <td>Male</td>\n",
       "      <td>25-45</td>\n",
       "      <td>2024-02-23 09:33:46</td>\n",
       "      <td>Electronics</td>\n",
       "      <td>Yes</td>\n",
       "      <td>SEASONALOFFER21</td>\n",
       "      <td>175.19</td>\n",
       "      <td>4638.992</td>\n",
       "      <td>4463.802</td>\n",
       "      <td>Credit Card</td>\n",
       "      <td>Bangalore</td>\n",
       "      <td>2024</td>\n",
       "      <td>2</td>\n",
       "    </tr>\n",
       "    <tr>\n",
       "      <th>2</th>\n",
       "      <td>337580</td>\n",
       "      <td>3814082218</td>\n",
       "      <td>Other</td>\n",
       "      <td>60 and above</td>\n",
       "      <td>2022-03-06 09:09:50</td>\n",
       "      <td>Clothing</td>\n",
       "      <td>Yes</td>\n",
       "      <td>SEASONALOFFER21</td>\n",
       "      <td>211.54</td>\n",
       "      <td>1986.373</td>\n",
       "      <td>1774.833</td>\n",
       "      <td>Credit Card</td>\n",
       "      <td>Delhi</td>\n",
       "      <td>2022</td>\n",
       "      <td>3</td>\n",
       "    </tr>\n",
       "    <tr>\n",
       "      <th>3</th>\n",
       "      <td>180333</td>\n",
       "      <td>1395204173</td>\n",
       "      <td>Other</td>\n",
       "      <td>60 and above</td>\n",
       "      <td>2020-11-04 04:41:57</td>\n",
       "      <td>Sports &amp; Fitness</td>\n",
       "      <td>No</td>\n",
       "      <td>No Discount</td>\n",
       "      <td>0.00</td>\n",
       "      <td>5695.613</td>\n",
       "      <td>5695.613</td>\n",
       "      <td>Debit Card</td>\n",
       "      <td>Delhi</td>\n",
       "      <td>2020</td>\n",
       "      <td>11</td>\n",
       "    </tr>\n",
       "    <tr>\n",
       "      <th>4</th>\n",
       "      <td>447553</td>\n",
       "      <td>8009390577</td>\n",
       "      <td>Male</td>\n",
       "      <td>18-25</td>\n",
       "      <td>2022-05-31 17:00:32</td>\n",
       "      <td>Sports &amp; Fitness</td>\n",
       "      <td>Yes</td>\n",
       "      <td>WELCOME5</td>\n",
       "      <td>439.92</td>\n",
       "      <td>2292.651</td>\n",
       "      <td>1852.731</td>\n",
       "      <td>Credit Card</td>\n",
       "      <td>Delhi</td>\n",
       "      <td>2022</td>\n",
       "      <td>5</td>\n",
       "    </tr>\n",
       "    <tr>\n",
       "      <th>...</th>\n",
       "      <td>...</td>\n",
       "      <td>...</td>\n",
       "      <td>...</td>\n",
       "      <td>...</td>\n",
       "      <td>...</td>\n",
       "      <td>...</td>\n",
       "      <td>...</td>\n",
       "      <td>...</td>\n",
       "      <td>...</td>\n",
       "      <td>...</td>\n",
       "      <td>...</td>\n",
       "      <td>...</td>\n",
       "      <td>...</td>\n",
       "      <td>...</td>\n",
       "      <td>...</td>\n",
       "    </tr>\n",
       "    <tr>\n",
       "      <th>54995</th>\n",
       "      <td>295864</td>\n",
       "      <td>5407639888</td>\n",
       "      <td>Other</td>\n",
       "      <td>25-45</td>\n",
       "      <td>2020-02-23 10:42:04</td>\n",
       "      <td>Electronics</td>\n",
       "      <td>Yes</td>\n",
       "      <td>SEASONALOFFER21</td>\n",
       "      <td>110.89</td>\n",
       "      <td>2819.907</td>\n",
       "      <td>2709.017</td>\n",
       "      <td>Debit Card</td>\n",
       "      <td>Other</td>\n",
       "      <td>2020</td>\n",
       "      <td>2</td>\n",
       "    </tr>\n",
       "    <tr>\n",
       "      <th>54996</th>\n",
       "      <td>706435</td>\n",
       "      <td>1144029904</td>\n",
       "      <td>Other</td>\n",
       "      <td>18-25</td>\n",
       "      <td>2021-07-12 15:59:21</td>\n",
       "      <td>Electronics</td>\n",
       "      <td>Yes</td>\n",
       "      <td>SEASONALOFFER21</td>\n",
       "      <td>488.59</td>\n",
       "      <td>3891.304</td>\n",
       "      <td>3402.714</td>\n",
       "      <td>Cash on Delivery</td>\n",
       "      <td>Bangalore</td>\n",
       "      <td>2021</td>\n",
       "      <td>7</td>\n",
       "    </tr>\n",
       "    <tr>\n",
       "      <th>54997</th>\n",
       "      <td>649435</td>\n",
       "      <td>9587323189</td>\n",
       "      <td>Male</td>\n",
       "      <td>45-60</td>\n",
       "      <td>2024-08-02 09:30:44</td>\n",
       "      <td>Home &amp; Kitchen</td>\n",
       "      <td>Yes</td>\n",
       "      <td>NEWYEARS</td>\n",
       "      <td>417.63</td>\n",
       "      <td>4094.688</td>\n",
       "      <td>3677.058</td>\n",
       "      <td>Credit Card</td>\n",
       "      <td>Mumbai</td>\n",
       "      <td>2024</td>\n",
       "      <td>8</td>\n",
       "    </tr>\n",
       "    <tr>\n",
       "      <th>54998</th>\n",
       "      <td>982183</td>\n",
       "      <td>5032564481</td>\n",
       "      <td>Female</td>\n",
       "      <td>45-60</td>\n",
       "      <td>2020-08-05 23:57:56</td>\n",
       "      <td>Beauty and Health</td>\n",
       "      <td>Yes</td>\n",
       "      <td>SEASONALOFFER21</td>\n",
       "      <td>204.56</td>\n",
       "      <td>3977.474</td>\n",
       "      <td>3772.914</td>\n",
       "      <td>Credit Card</td>\n",
       "      <td>Kolkata</td>\n",
       "      <td>2020</td>\n",
       "      <td>8</td>\n",
       "    </tr>\n",
       "    <tr>\n",
       "      <th>54999</th>\n",
       "      <td>126691</td>\n",
       "      <td>9172953722</td>\n",
       "      <td>Male</td>\n",
       "      <td>25-45</td>\n",
       "      <td>2022-07-21 09:05:18</td>\n",
       "      <td>Beauty and Health</td>\n",
       "      <td>Yes</td>\n",
       "      <td>NEWYEARS</td>\n",
       "      <td>380.81</td>\n",
       "      <td>3703.582</td>\n",
       "      <td>3322.772</td>\n",
       "      <td>Credit Card</td>\n",
       "      <td>Mumbai</td>\n",
       "      <td>2022</td>\n",
       "      <td>7</td>\n",
       "    </tr>\n",
       "  </tbody>\n",
       "</table>\n",
       "<p>55000 rows × 15 columns</p>\n",
       "</div>"
      ],
      "text/plain": [
       "          CID         TID  Gender     Age Group       Purchase Date  \\\n",
       "0      943146  5876328741  Female         25-45 2023-08-30 20:27:08   \n",
       "1      180079  1018503182    Male         25-45 2024-02-23 09:33:46   \n",
       "2      337580  3814082218   Other  60 and above 2022-03-06 09:09:50   \n",
       "3      180333  1395204173   Other  60 and above 2020-11-04 04:41:57   \n",
       "4      447553  8009390577    Male         18-25 2022-05-31 17:00:32   \n",
       "...       ...         ...     ...           ...                 ...   \n",
       "54995  295864  5407639888   Other         25-45 2020-02-23 10:42:04   \n",
       "54996  706435  1144029904   Other         18-25 2021-07-12 15:59:21   \n",
       "54997  649435  9587323189    Male         45-60 2024-08-02 09:30:44   \n",
       "54998  982183  5032564481  Female         45-60 2020-08-05 23:57:56   \n",
       "54999  126691  9172953722    Male         25-45 2022-07-21 09:05:18   \n",
       "\n",
       "        Product Category Discount Availed    Discount Name  \\\n",
       "0            Electronics              Yes        FESTIVE50   \n",
       "1            Electronics              Yes  SEASONALOFFER21   \n",
       "2               Clothing              Yes  SEASONALOFFER21   \n",
       "3       Sports & Fitness               No      No Discount   \n",
       "4       Sports & Fitness              Yes         WELCOME5   \n",
       "...                  ...              ...              ...   \n",
       "54995        Electronics              Yes  SEASONALOFFER21   \n",
       "54996        Electronics              Yes  SEASONALOFFER21   \n",
       "54997     Home & Kitchen              Yes         NEWYEARS   \n",
       "54998  Beauty and Health              Yes  SEASONALOFFER21   \n",
       "54999  Beauty and Health              Yes         NEWYEARS   \n",
       "\n",
       "       Discount Amount (INR)  Gross Amount  Net Amount   Purchase Method  \\\n",
       "0                      64.30       725.304     661.004       Credit Card   \n",
       "1                     175.19      4638.992    4463.802       Credit Card   \n",
       "2                     211.54      1986.373    1774.833       Credit Card   \n",
       "3                       0.00      5695.613    5695.613        Debit Card   \n",
       "4                     439.92      2292.651    1852.731       Credit Card   \n",
       "...                      ...           ...         ...               ...   \n",
       "54995                 110.89      2819.907    2709.017        Debit Card   \n",
       "54996                 488.59      3891.304    3402.714  Cash on Delivery   \n",
       "54997                 417.63      4094.688    3677.058       Credit Card   \n",
       "54998                 204.56      3977.474    3772.914       Credit Card   \n",
       "54999                 380.81      3703.582    3322.772       Credit Card   \n",
       "\n",
       "        Location  Year  Month  \n",
       "0      Ahmedabad  2023      8  \n",
       "1      Bangalore  2024      2  \n",
       "2          Delhi  2022      3  \n",
       "3          Delhi  2020     11  \n",
       "4          Delhi  2022      5  \n",
       "...          ...   ...    ...  \n",
       "54995      Other  2020      2  \n",
       "54996  Bangalore  2021      7  \n",
       "54997     Mumbai  2024      8  \n",
       "54998    Kolkata  2020      8  \n",
       "54999     Mumbai  2022      7  \n",
       "\n",
       "[55000 rows x 15 columns]"
      ]
     },
     "execution_count": 16,
     "metadata": {},
     "output_type": "execute_result"
    }
   ],
   "source": [
    "df['Discount Amount (INR)'] = df['Discount Amount (INR)'].round(3)\n",
    "df['Gross Amount'] = df['Gross Amount'].round(3)\n",
    "df['Net Amount'] = df['Net Amount'].round(3)\n",
    "df"
   ]
  },
  {
   "cell_type": "markdown",
   "id": "d670fef8",
   "metadata": {},
   "source": [
    "# Exploratory Data Analysis"
   ]
  },
  {
   "cell_type": "code",
   "execution_count": 17,
   "id": "ec3a6331",
   "metadata": {},
   "outputs": [
    {
     "data": {
      "text/plain": [
       "Female    18454\n",
       "Other     18450\n",
       "Male      18096\n",
       "Name: Gender, dtype: int64"
      ]
     },
     "execution_count": 17,
     "metadata": {},
     "output_type": "execute_result"
    }
   ],
   "source": [
    "df['Gender'].value_counts()"
   ]
  },
  {
   "cell_type": "code",
   "execution_count": 18,
   "id": "71cfa6f3",
   "metadata": {},
   "outputs": [
    {
     "data": {
      "text/plain": [
       "25-45           22010\n",
       "18-25           16431\n",
       "45-60           11104\n",
       "under 18         2771\n",
       "60 and above     2684\n",
       "Name: Age Group, dtype: int64"
      ]
     },
     "execution_count": 18,
     "metadata": {},
     "output_type": "execute_result"
    }
   ],
   "source": [
    "df['Age Group'].value_counts()"
   ]
  },
  {
   "cell_type": "code",
   "execution_count": 19,
   "id": "baa40266",
   "metadata": {},
   "outputs": [
    {
     "data": {
      "text/plain": [
       "<AxesSubplot:xlabel='Age Group', ylabel='count'>"
      ]
     },
     "execution_count": 19,
     "metadata": {},
     "output_type": "execute_result"
    },
    {
     "data": {
      "image/png": "[encoded data removed]",
      "text/plain": [
       "<Figure size 432x288 with 1 Axes>"
      ]
     },
     "metadata": {
      "needs_background": "light"
     },
     "output_type": "display_data"
    }
   ],
   "source": [
    "sns.countplot(x='Age Group', data=df)"
   ]
  },
  {
   "cell_type": "code",
   "execution_count": 20,
   "id": "c03c84b5",
   "metadata": {},
   "outputs": [
    {
     "data": {
      "text/plain": [
       "2020    11090\n",
       "2021    11043\n",
       "2023    11022\n",
       "2022    10895\n",
       "2024     7859\n",
       "2019     3091\n",
       "Name: Year, dtype: int64"
      ]
     },
     "execution_count": 20,
     "metadata": {},
     "output_type": "execute_result"
    }
   ],
   "source": [
    "df['Year'].value_counts()"
   ]
  },
  {
   "cell_type": "code",
   "execution_count": 21,
   "id": "5d223477",
   "metadata": {},
   "outputs": [
    {
     "data": {
      "text/plain": [
       "Text(0.5, 1.0, 'Total Sales per year')"
      ]
     },
     "execution_count": 21,
     "metadata": {},
     "output_type": "execute_result"
    },
    {
     "data": {
      "image/png": "[encoded data removed]",
      "text/plain": [
       "<Figure size 432x288 with 1 Axes>"
      ]
     },
     "metadata": {
      "needs_background": "light"
     },
     "output_type": "display_data"
    }
   ],
   "source": [
    "year_sales = df.groupby('Year')['Net Amount'].sum()\n",
    "year_sales.plot(kind='line', marker='o')\n",
    "plt.title('Total Sales per year')"
   ]
  },
  {
   "cell_type": "code",
   "execution_count": 22,
   "id": "210645d7",
   "metadata": {},
   "outputs": [
    {
     "data": {
      "text/plain": [
       "Electronics          16574\n",
       "Clothing             10968\n",
       "Beauty and Health     8332\n",
       "Sports & Fitness      5557\n",
       "Home & Kitchen        5489\n",
       "Books                 2762\n",
       "Other                 2171\n",
       "Pet Care              1618\n",
       "Toys & Games          1529\n",
       "Name: Product Category, dtype: int64"
      ]
     },
     "execution_count": 22,
     "metadata": {},
     "output_type": "execute_result"
    }
   ],
   "source": [
    "df['Product Category'].value_counts()"
   ]
  },
  {
   "cell_type": "code",
   "execution_count": 23,
   "id": "560bd3e5",
   "metadata": {},
   "outputs": [
    {
     "data": {
      "text/plain": [
       "Text(0.5, 1.0, 'Top 5 Product Categories')"
      ]
     },
     "execution_count": 23,
     "metadata": {},
     "output_type": "execute_result"
    },
    {
     "data": {
      "image/png": "[encoded data removed]",
      "text/plain": [
       "<Figure size 864x432 with 1 Axes>"
      ]
     },
     "metadata": {
      "needs_background": "light"
     },
     "output_type": "display_data"
    }
   ],
   "source": [
    "df_ = df['Product Category'].value_counts().nlargest(5).index\n",
    "df__ = df[df['Product Category'].isin(df_)]\n",
    "plt.figure(figsize=(12, 6))\n",
    "sns.countplot(x='Product Category', data=df__)\n",
    "plt.title('Top 5 Product Categories')"
   ]
  },
  {
   "cell_type": "code",
   "execution_count": 24,
   "id": "8d2d5384",
   "metadata": {},
   "outputs": [
    {
     "data": {
      "text/plain": [
       "Product Category\n",
       "Toys & Games         139.491\n",
       "Other                139.486\n",
       "Home & Kitchen       138.679\n",
       "Clothing             137.827\n",
       "Books                137.343\n",
       "Electronics          136.415\n",
       "Beauty and Health    136.175\n",
       "Sports & Fitness     135.502\n",
       "Pet Care             134.362\n",
       "Name: Discount Amount (INR), dtype: float64"
      ]
     },
     "execution_count": 24,
     "metadata": {},
     "output_type": "execute_result"
    }
   ],
   "source": [
    "df.groupby('Product Category')['Discount Amount (INR)'].mean().sort_values(ascending=False).round(3)"
   ]
  },
  {
   "cell_type": "code",
   "execution_count": 25,
   "id": "afaab99c",
   "metadata": {},
   "outputs": [
    {
     "data": {
      "text/html": [
       "<div>\n",
       "<style scoped>\n",
       "    .dataframe tbody tr th:only-of-type {\n",
       "        vertical-align: middle;\n",
       "    }\n",
       "\n",
       "    .dataframe tbody tr th {\n",
       "        vertical-align: top;\n",
       "    }\n",
       "\n",
       "    .dataframe thead th {\n",
       "        text-align: right;\n",
       "    }\n",
       "</style>\n",
       "<table border=\"1\" class=\"dataframe\">\n",
       "  <thead>\n",
       "    <tr style=\"text-align: right;\">\n",
       "      <th>Year</th>\n",
       "      <th>2019</th>\n",
       "      <th>2020</th>\n",
       "      <th>2021</th>\n",
       "      <th>2022</th>\n",
       "      <th>2023</th>\n",
       "      <th>2024</th>\n",
       "      <th>Total</th>\n",
       "    </tr>\n",
       "    <tr>\n",
       "      <th>Discount Name</th>\n",
       "      <th></th>\n",
       "      <th></th>\n",
       "      <th></th>\n",
       "      <th></th>\n",
       "      <th></th>\n",
       "      <th></th>\n",
       "      <th></th>\n",
       "    </tr>\n",
       "  </thead>\n",
       "  <tbody>\n",
       "    <tr>\n",
       "      <th>FESTIVE50</th>\n",
       "      <td>241</td>\n",
       "      <td>865</td>\n",
       "      <td>843</td>\n",
       "      <td>790</td>\n",
       "      <td>806</td>\n",
       "      <td>570</td>\n",
       "      <td>4115</td>\n",
       "    </tr>\n",
       "    <tr>\n",
       "      <th>NEWYEARS</th>\n",
       "      <td>458</td>\n",
       "      <td>1651</td>\n",
       "      <td>1585</td>\n",
       "      <td>1600</td>\n",
       "      <td>1665</td>\n",
       "      <td>1176</td>\n",
       "      <td>8135</td>\n",
       "    </tr>\n",
       "    <tr>\n",
       "      <th>SAVE10</th>\n",
       "      <td>229</td>\n",
       "      <td>884</td>\n",
       "      <td>819</td>\n",
       "      <td>781</td>\n",
       "      <td>830</td>\n",
       "      <td>572</td>\n",
       "      <td>4115</td>\n",
       "    </tr>\n",
       "    <tr>\n",
       "      <th>SEASONALOFFER21</th>\n",
       "      <td>401</td>\n",
       "      <td>1404</td>\n",
       "      <td>1432</td>\n",
       "      <td>1368</td>\n",
       "      <td>1385</td>\n",
       "      <td>950</td>\n",
       "      <td>6940</td>\n",
       "    </tr>\n",
       "    <tr>\n",
       "      <th>WELCOME5</th>\n",
       "      <td>230</td>\n",
       "      <td>823</td>\n",
       "      <td>836</td>\n",
       "      <td>813</td>\n",
       "      <td>802</td>\n",
       "      <td>606</td>\n",
       "      <td>4110</td>\n",
       "    </tr>\n",
       "    <tr>\n",
       "      <th>Total</th>\n",
       "      <td>1559</td>\n",
       "      <td>5627</td>\n",
       "      <td>5515</td>\n",
       "      <td>5352</td>\n",
       "      <td>5488</td>\n",
       "      <td>3874</td>\n",
       "      <td>27415</td>\n",
       "    </tr>\n",
       "  </tbody>\n",
       "</table>\n",
       "</div>"
      ],
      "text/plain": [
       "Year             2019  2020  2021  2022  2023  2024  Total\n",
       "Discount Name                                             \n",
       "FESTIVE50         241   865   843   790   806   570   4115\n",
       "NEWYEARS          458  1651  1585  1600  1665  1176   8135\n",
       "SAVE10            229   884   819   781   830   572   4115\n",
       "SEASONALOFFER21   401  1404  1432  1368  1385   950   6940\n",
       "WELCOME5          230   823   836   813   802   606   4110\n",
       "Total            1559  5627  5515  5352  5488  3874  27415"
      ]
     },
     "execution_count": 25,
     "metadata": {},
     "output_type": "execute_result"
    }
   ],
   "source": [
    "df_filtered = df[df['Discount Name'] != 'No Discount']\n",
    "table = df_filtered.groupby(['Discount Name','Year']).size().unstack(fill_value=0)\n",
    "table['Total'] = table.sum(axis=1)\n",
    "table.loc['Total'] = table.sum()\n",
    "table"
   ]
  },
  {
   "cell_type": "code",
   "execution_count": 26,
   "id": "e36e0874",
   "metadata": {},
   "outputs": [
    {
     "data": {
      "text/html": [
       "<div>\n",
       "<style scoped>\n",
       "    .dataframe tbody tr th:only-of-type {\n",
       "        vertical-align: middle;\n",
       "    }\n",
       "\n",
       "    .dataframe tbody tr th {\n",
       "        vertical-align: top;\n",
       "    }\n",
       "\n",
       "    .dataframe thead th {\n",
       "        text-align: right;\n",
       "    }\n",
       "</style>\n",
       "<table border=\"1\" class=\"dataframe\">\n",
       "  <thead>\n",
       "    <tr style=\"text-align: right;\">\n",
       "      <th>Discount Availed</th>\n",
       "      <th>Yes</th>\n",
       "    </tr>\n",
       "    <tr>\n",
       "      <th>Purchase Method</th>\n",
       "      <th></th>\n",
       "    </tr>\n",
       "  </thead>\n",
       "  <tbody>\n",
       "    <tr>\n",
       "      <th>Cash on Delivery</th>\n",
       "      <td>1389</td>\n",
       "    </tr>\n",
       "    <tr>\n",
       "      <th>Credit Card</th>\n",
       "      <td>11002</td>\n",
       "    </tr>\n",
       "    <tr>\n",
       "      <th>Debit Card</th>\n",
       "      <td>6860</td>\n",
       "    </tr>\n",
       "    <tr>\n",
       "      <th>Google Pay UPI</th>\n",
       "      <td>1313</td>\n",
       "    </tr>\n",
       "    <tr>\n",
       "      <th>International Card</th>\n",
       "      <td>1387</td>\n",
       "    </tr>\n",
       "    <tr>\n",
       "      <th>Net Banking</th>\n",
       "      <td>2741</td>\n",
       "    </tr>\n",
       "    <tr>\n",
       "      <th>Paytm UPI</th>\n",
       "      <td>1356</td>\n",
       "    </tr>\n",
       "    <tr>\n",
       "      <th>PhonePe UPI</th>\n",
       "      <td>1367</td>\n",
       "    </tr>\n",
       "  </tbody>\n",
       "</table>\n",
       "</div>"
      ],
      "text/plain": [
       "Discount Availed      Yes\n",
       "Purchase Method          \n",
       "Cash on Delivery     1389\n",
       "Credit Card         11002\n",
       "Debit Card           6860\n",
       "Google Pay UPI       1313\n",
       "International Card   1387\n",
       "Net Banking          2741\n",
       "Paytm UPI            1356\n",
       "PhonePe UPI          1367"
      ]
     },
     "execution_count": 26,
     "metadata": {},
     "output_type": "execute_result"
    }
   ],
   "source": [
    "df_filtered = df[df['Discount Availed'] != 'No']\n",
    "df_filtered.groupby(['Purchase Method','Discount Availed']).size().unstack(fill_value=0)"
   ]
  },
  {
   "cell_type": "code",
   "execution_count": 27,
   "id": "cbb1770c",
   "metadata": {},
   "outputs": [
    {
     "data": {
      "text/plain": [
       "Text(0.5, 1.0, 'Top 5 Purchasing Methods')"
      ]
     },
     "execution_count": 27,
     "metadata": {},
     "output_type": "execute_result"
    },
    {
     "data": {
      "image/png": "[encoded data removed]",
      "text/plain": [
       "<Figure size 432x288 with 1 Axes>"
      ]
     },
     "metadata": {
      "needs_background": "light"
     },
     "output_type": "display_data"
    }
   ],
   "source": [
    "df['Purchase Method'].value_counts().head(5).plot(kind='barh')\n",
    "plt.title('Top 5 Purchasing Methods')"
   ]
  },
  {
   "cell_type": "code",
   "execution_count": 28,
   "id": "5f324ef8",
   "metadata": {},
   "outputs": [
    {
     "data": {
      "text/plain": [
       "Mumbai       11197\n",
       "Delhi        10799\n",
       "Bangalore     8249\n",
       "Hyderabad     5545\n",
       "Chennai       4368\n",
       "Pune          3781\n",
       "Ahmedabad     2785\n",
       "Kolkata       2709\n",
       "Jaipur        1678\n",
       "Lucknow       1136\n",
       "Other         1046\n",
       "Varanasi       606\n",
       "Dehradun       553\n",
       "Srinagar       548\n",
       "Name: Location, dtype: int64"
      ]
     },
     "execution_count": 28,
     "metadata": {},
     "output_type": "execute_result"
    }
   ],
   "source": [
    "df['Location'].value_counts()"
   ]
  },
  {
   "cell_type": "code",
   "execution_count": 29,
   "id": "fc1d4621",
   "metadata": {},
   "outputs": [
    {
     "data": {
      "image/png": "[encoded data removed]",
      "text/plain": [
       "<Figure size 720x720 with 1 Axes>"
      ]
     },
     "metadata": {},
     "output_type": "display_data"
    }
   ],
   "source": [
    "data = {\"City\": [\"Mumbai\", \"Delhi\", \"Bangalore\", \"Hyderabad\", \"Chennai\", \"Pune\", \"Ahmedabad\",\n",
    "        \"Kolkata\", \"Jaipur\", \"Lucknow\", \"Other\", \"Varanasi\", \"Dehradun\", \"Srinagar\"],\n",
    "        \"Value\": [11197, 10799, 8249, 5545, 4368, 3781, 2785, 2709, 1678, 1136, 1046, 606, 553, 548]}\n",
    "\n",
    "df_loc = pd.DataFrame(data)\n",
    "labels = df_loc['City']\n",
    "sizes = df_loc['Value']\n",
    "\n",
    "plt.figure(figsize=(10, 10))\n",
    "plt.pie(sizes, labels=labels, autopct='%1.1f%%', startangle=140, shadow=True)\n",
    "plt.axis('equal')\n",
    "\n",
    "plt.show()\n"
   ]
  },
  {
   "cell_type": "code",
   "execution_count": 30,
   "id": "f6764ac5",
   "metadata": {},
   "outputs": [
    {
     "data": {
      "image/png": "[encoded data removed]",
      "text/plain": [
       "<Figure size 432x288 with 2 Axes>"
      ]
     },
     "metadata": {
      "needs_background": "light"
     },
     "output_type": "display_data"
    }
   ],
   "source": [
    "numerical_cols = ['Discount Amount (INR)', 'Gross Amount', 'Net Amount']\n",
    "corr = df[numerical_cols].corr()\n",
    "\n",
    "plt.figure(figsize=(6, 4))\n",
    "sns.heatmap(corr, annot=True, cmap='coolwarm')\n",
    "plt.title('Correlation Heatmap')\n",
    "plt.show()"
   ]
  }
 ],
 "metadata": {
  "kernelspec": {
   "display_name": "Python 3 (ipykernel)",
   "language": "python",
   "name": "python3"
  },
  "language_info": {
   "codemirror_mode": {
    "name": "ipython",
    "version": 3
   },
   "file_extension": ".py",
   "mimetype": "text/x-python",
   "name": "python",
   "nbconvert_exporter": "python",
   "pygments_lexer": "ipython3",
   "version": "3.9.7"
  }
 },
 "nbformat": 4,
 "nbformat_minor": 5
}
